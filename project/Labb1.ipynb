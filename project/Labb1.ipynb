{
 "cells": [
  {
   "cell_type": "code",
   "execution_count": 56,
   "metadata": {},
   "outputs": [
    {
     "data": {
      "text/plain": [
       "[('20.11541438766307', ' 28.701809671168824'),\n",
       " ('15.200086041781336', ' 27.095070307714877'),\n",
       " ('17.200234546952956', ' 27.669778220491132'),\n",
       " ('16.785685905190583', ' 34.36654587712494'),\n",
       " ('20.8917697133121', ' 31.480353852465935'),\n",
       " ('20.41359589938329', ' 31.091310056669883'),\n",
       " ('22.137436541638763', ' 26.71138648198097'),\n",
       " ('15.695510661035328', ' 32.291267979503495'),\n",
       " ('18.375374557482164', ' 26.634024937619284'),\n",
       " ('15.238377755504562', ' 28.794554417576478'),\n",
       " ('16.749103798428827', ' 34.895233506365955'),\n",
       " ('19.042842304826898', ' 31.399997598540928'),\n",
       " ('15.212287757470909', ' 30.569497437746463'),\n",
       " ('16.59070120549319', ' 31.846142509898748'),\n",
       " ('20.199075502236184', ' 33.4285192018981'),\n",
       " ('19.35953184482573', ' 32.75999911546245'),\n",
       " ('16.763524976325574', ' 27.290480719641042'),\n",
       " ('19.71412547100727', ' 25.321002439040377'),\n",
       " ('21.475443653422612', ' 28.154530480590818'),\n",
       " ('15.051990077424488', ' 27.67740875975703'),\n",
       " ('21.446554014662464', ' 27.109828435863264'),\n",
       " ('20.585115159905815', ' 34.429097143350546'),\n",
       " ('17.722004132143937', ' 33.76367626472669'),\n",
       " ('16.24383599849425', ' 28.14677880798478'),\n",
       " ('22.65770457765425', ' 31.5543866529488'),\n",
       " ('17.692756360901015', ' 28.95631901060664'),\n",
       " ('15.741966747041182', ' 34.14547589740543'),\n",
       " ('15.773731014667712', ' 29.588518525873987'),\n",
       " ('21.779954930779677', ' 27.648801664980525'),\n",
       " ('19.82980825093513', ' 27.466275076939834'),\n",
       " ('21.45702618619504', ' 30.61368134163151'),\n",
       " ('20.837854293550542', ' 27.627416085229353'),\n",
       " ('19.289824731637605', ' 30.845859902235404'),\n",
       " ('22.784926111834963', ' 33.97822883602477'),\n",
       " ('18.02827501766683', ' 28.994005051403974'),\n",
       " ('19.416325050185815', ' 27.193207591572833'),\n",
       " ('21.63523731402396', ' 34.97537606495111'),\n",
       " ('19.94815801891397', ' 30.095262936764644'),\n",
       " ('21.89365520248622', ' 25.90909412173794'),\n",
       " ('19.618817162054096', ' 25.471163754247346'),\n",
       " ('20.63657468971939', ' 26.096491303506593'),\n",
       " ('15.366595069245298', ' 31.2744604170309'),\n",
       " ('16.823186205212373', ' 32.920793643629644'),\n",
       " ('17.315103708816856', ' 29.22159966799684'),\n",
       " ('15.63833581538902', ' 25.63527706151957'),\n",
       " ('16.862327090888243', ' 28.816192865065368'),\n",
       " ('15.808011435277834', ' 34.96121380240097'),\n",
       " ('17.223788824880735', ' 30.29114345099137'),\n",
       " ('20.085475554115202', ' 34.71078377613618'),\n",
       " ('17.918657431760675', ' 33.60779702234498')]"
      ]
     },
     "execution_count": 56,
     "metadata": {},
     "output_type": "execute_result"
    }
   ],
   "source": [
    "def dataCleaner(dataPath):\n",
    "    data = []  \n",
    "\n",
    "    with open(dataPath, \"r\") as file:\n",
    "        next(file) \n",
    "        for line in file:\n",
    "            lineCleaned = line.strip(\"()\\n\") \n",
    "            lines = lineCleaned.split(\",\")\n",
    "            width, height = lines\n",
    "            data.append((width, height))\n",
    "                \n",
    "    \n",
    "    \n",
    "    return data\n",
    "\n",
    "testPath = \"../project/data/pichu.txt\"\n",
    "a = dataCleaner(testPath)\n",
    "a"
   ]
  },
  {
   "cell_type": "code",
   "execution_count": 57,
   "metadata": {},
   "outputs": [],
   "source": [
    "import re\n",
    "\n",
    "def dataCombiner(pichuPath, pikatchuPath):\n",
    "    data = []  \n",
    "    def read_data(dataPath, label):\n",
    "        file = dataCleaner(dataPath)\n",
    "        for line in file:\n",
    "            try:\n",
    "                width, height = line \n",
    "                data.append((width, height, label))  \n",
    "            except ValueError:\n",
    "                print(f\"{line} is incorrecly formatted\")\n",
    "            \n",
    "    \n",
    "    read_data(pichuPath, \"pichu\")\n",
    "    read_data(pikatchuPath, \"pikatchu\")\n",
    "    return data\n",
    "    "
   ]
  },
  {
   "cell_type": "code",
   "execution_count": 15,
   "metadata": {},
   "outputs": [],
   "source": [
    "def trainingDataSaver(data, fileName):\n",
    "    with open(fileName, \"w\") as file:\n",
    "        for line in data:\n",
    "            file.write(f\"{line[0]}, {line[1]}, {line[2]}\\n\")"
   ]
  },
  {
   "cell_type": "code",
   "execution_count": 58,
   "metadata": {},
   "outputs": [],
   "source": [
    "pichuDataPath = \"../project/data/pichu.txt\"\n",
    "pikatchuDataPath = \"../project/data/pikachu.txt\"\n",
    "testDataPath = \"../project/data/test_points.txt\"\n",
    "\n",
    "combinedData = dataCleanerCombiner(pichuDataPath, pikatchuDataPath)\n",
    "combinedData\n",
    "trainingDataSaver(combinedData, \"..\\project\\data\\\\trainingData.txt\")\n"
   ]
  },
  {
   "cell_type": "code",
   "execution_count": null,
   "metadata": {},
   "outputs": [],
   "source": []
  },
  {
   "cell_type": "code",
   "execution_count": 3,
   "metadata": {},
   "outputs": [],
   "source": [
    "import numpy as np\n",
    "\n",
    "def calculateMean(__width, __height):\n",
    "    meanWidth = np.mean(__width)\n",
    "    meanHeight = np.mean(__height)\n",
    "    \n",
    "    return meanWidth, meanHeight"
   ]
  },
  {
   "cell_type": "code",
   "execution_count": 4,
   "metadata": {},
   "outputs": [
    {
     "data": {
      "text/plain": [
       "' Outdated, using knn instead\\n\\n\\n\\ndef calculatePokemon(inputW, inputH):\\n    pichuMeanWidth, pichuMeanHeight = calculateMean(pichuWidth, pichuHeight)\\n    pikatchuMeanWidth, pikatchuMeanHeight = calculateMean(pikatchuWidth, pikatchuHeight)\\n    \\n    distanceToPichu = np.sqrt((pichuMeanWidth - inputW)**2 + (pichuMeanHeight - inputH)**2)\\n    distanceToPikatchu = np.sqrt((pikatchuMeanWidth - inputW)**2 + (pikatchuMeanHeight - inputH)**2)\\n    \\n    print(\"Distance to pichu: \", distanceToPichu)\\n    print(\"Distance to pikatchu: \", distanceToPikatchu)\\n    \\n    if distanceToPichu < distanceToPikatchu:\\n        print(\"This is a pichu\")\\n    elif distanceToPikatchu < distanceToPichu:\\n        print(\"This is a pikatchu\")\\n    else:\\n        print(\"I have no idea what you have\")\\n'"
      ]
     },
     "execution_count": 4,
     "metadata": {},
     "output_type": "execute_result"
    }
   ],
   "source": [
    "\"\"\" Outdated, using knn instead\n",
    "\n",
    "\n",
    "\n",
    "def calculatePokemon(inputW, inputH):\n",
    "    pichuMeanWidth, pichuMeanHeight = calculateMean(pichuWidth, pichuHeight)\n",
    "    pikatchuMeanWidth, pikatchuMeanHeight = calculateMean(pikatchuWidth, pikatchuHeight)\n",
    "    \n",
    "    distanceToPichu = np.sqrt((pichuMeanWidth - inputW)**2 + (pichuMeanHeight - inputH)**2)\n",
    "    distanceToPikatchu = np.sqrt((pikatchuMeanWidth - inputW)**2 + (pikatchuMeanHeight - inputH)**2)\n",
    "    \n",
    "    print(\"Distance to pichu: \", distanceToPichu)\n",
    "    print(\"Distance to pikatchu: \", distanceToPikatchu)\n",
    "    \n",
    "    if distanceToPichu < distanceToPikatchu:\n",
    "        print(\"This is a pichu\")\n",
    "    elif distanceToPikatchu < distanceToPichu:\n",
    "        print(\"This is a pikatchu\")\n",
    "    else:\n",
    "        print(\"I have no idea what you have\")\n",
    "\"\"\""
   ]
  },
  {
   "cell_type": "code",
   "execution_count": 5,
   "metadata": {},
   "outputs": [
    {
     "ename": "SyntaxError",
     "evalue": "incomplete input (2201078615.py, line 3)",
     "output_type": "error",
     "traceback": [
      "\u001b[1;36m  Cell \u001b[1;32mIn[5], line 3\u001b[1;36m\u001b[0m\n\u001b[1;33m    \u001b[0m\n\u001b[1;37m    ^\u001b[0m\n\u001b[1;31mSyntaxError\u001b[0m\u001b[1;31m:\u001b[0m incomplete input\n"
     ]
    }
   ],
   "source": [
    "def euclideanDistance(input1, input2):\n",
    "    \n",
    "    "
   ]
  },
  {
   "cell_type": "code",
   "execution_count": null,
   "metadata": {},
   "outputs": [
    {
     "name": "stdout",
     "output_type": "stream",
     "text": [
      "Distance to pichu:  8.098436088135399\n",
      "Distance to pikatchu:  4.8566972613702575\n",
      "This is a pikatchu\n",
      "Distance to pichu:  16.416617431372043\n",
      "Distance to pikatchu:  27.27505285425895\n",
      "This is a pichu\n",
      "Distance to pichu:  7.380520184263673\n",
      "Distance to pikatchu:  9.955539074696528\n",
      "This is a pichu\n",
      "Distance to pichu:  15.363880568285763\n",
      "Distance to pikatchu:  5.61411995216723\n",
      "This is a pikatchu\n"
     ]
    },
    {
     "data": {
      "text/plain": [
       "<matplotlib.collections.PathCollection at 0x1369fe75b90>"
      ]
     },
     "execution_count": 339,
     "metadata": {},
     "output_type": "execute_result"
    },
    {
     "data": {
      "image/png": "[encoded data removed]",
      "text/plain": [
       "<Figure size 640x480 with 1 Axes>"
      ]
     },
     "metadata": {},
     "output_type": "display_data"
    }
   ],
   "source": [
    "import matplotlib.pyplot as plt\n",
    "\n",
    "\n",
    "for a in range(len(testWidth)):\n",
    "    calculatePokemon(testWidth[a], testHeight[a])\n",
    "\n",
    "\n",
    "\n",
    "plt.scatter(pichuWidth, pichuHeight, color='blue', label='Pichu')\n",
    "plt.scatter(pikatchuWidth, pikatchuHeight, color='red', label='Pikatchu')\n",
    "plt.scatter(testWidth,testHeight, color='green', label='testValue')\n",
    "\n",
    "\n"
   ]
  },
  {
   "cell_type": "code",
   "execution_count": null,
   "metadata": {},
   "outputs": [],
   "source": []
  }
 ],
 "metadata": {
  "kernelspec": {
   "display_name": ".venv",
   "language": "python",
   "name": "python3"
  },
  "language_info": {
   "codemirror_mode": {
    "name": "ipython",
    "version": 3
   },
   "file_extension": ".py",
   "mimetype": "text/x-python",
   "name": "python",
   "nbconvert_exporter": "python",
   "pygments_lexer": "ipython3",
   "version": "3.11.7"
  }
 },
 "nbformat": 4,
 "nbformat_minor": 2
}
