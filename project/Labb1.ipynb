{
 "cells": [
  {
   "cell_type": "markdown",
   "metadata": {},
   "source": [
    "Källor:\n",
    "- https://youtu.be/w6hQ3ES6Kbg?si=rfy3IYIbRLc3GqaK från Brian\n",
    "- ChatGPT 4"
   ]
  },
  {
   "cell_type": "markdown",
   "metadata": {},
   "source": [
    "## DataCleaner "
   ]
  },
  {
   "cell_type": "code",
   "execution_count": 469,
   "metadata": {},
   "outputs": [
    {
     "data": {
      "text/plain": [
       "[(20.11541438766307, 28.701809671168824),\n",
       " (15.200086041781336, 27.095070307714877),\n",
       " (17.200234546952956, 27.669778220491132),\n",
       " (16.785685905190583, 34.36654587712494),\n",
       " (20.8917697133121, 31.480353852465935),\n",
       " (20.41359589938329, 31.091310056669883),\n",
       " (22.137436541638763, 26.71138648198097),\n",
       " (15.695510661035328, 32.291267979503495),\n",
       " (18.375374557482164, 26.634024937619284),\n",
       " (15.238377755504562, 28.794554417576478),\n",
       " (16.749103798428827, 34.895233506365955),\n",
       " (19.042842304826898, 31.399997598540928),\n",
       " (15.212287757470909, 30.569497437746463),\n",
       " (16.59070120549319, 31.846142509898748),\n",
       " (20.199075502236184, 33.4285192018981),\n",
       " (19.35953184482573, 32.75999911546245),\n",
       " (16.763524976325574, 27.290480719641042),\n",
       " (19.71412547100727, 25.321002439040377),\n",
       " (21.475443653422612, 28.154530480590818),\n",
       " (15.051990077424488, 27.67740875975703),\n",
       " (21.446554014662464, 27.109828435863264),\n",
       " (20.585115159905815, 34.429097143350546),\n",
       " (17.722004132143937, 33.76367626472669),\n",
       " (16.24383599849425, 28.14677880798478),\n",
       " (22.65770457765425, 31.5543866529488),\n",
       " (17.692756360901015, 28.95631901060664),\n",
       " (15.741966747041182, 34.14547589740543),\n",
       " (15.773731014667712, 29.588518525873987),\n",
       " (21.779954930779677, 27.648801664980525),\n",
       " (19.82980825093513, 27.466275076939834),\n",
       " (21.45702618619504, 30.61368134163151),\n",
       " (20.837854293550542, 27.627416085229353),\n",
       " (19.289824731637605, 30.845859902235404),\n",
       " (22.784926111834963, 33.97822883602477),\n",
       " (18.02827501766683, 28.994005051403974),\n",
       " (19.416325050185815, 27.193207591572833),\n",
       " (21.63523731402396, 34.97537606495111),\n",
       " (19.94815801891397, 30.095262936764644),\n",
       " (21.89365520248622, 25.90909412173794),\n",
       " (19.618817162054096, 25.471163754247346),\n",
       " (20.63657468971939, 26.096491303506593),\n",
       " (15.366595069245298, 31.2744604170309),\n",
       " (16.823186205212373, 32.920793643629644),\n",
       " (17.315103708816856, 29.22159966799684),\n",
       " (15.63833581538902, 25.63527706151957),\n",
       " (16.862327090888243, 28.816192865065368),\n",
       " (15.808011435277834, 34.96121380240097),\n",
       " (17.223788824880735, 30.29114345099137),\n",
       " (20.085475554115202, 34.71078377613618),\n",
       " (17.918657431760675, 33.60779702234498)]"
      ]
     },
     "execution_count": 469,
     "metadata": {},
     "output_type": "execute_result"
    }
   ],
   "source": [
    "def dataCleaner(dataPath):\n",
    "    data = []  \n",
    "\n",
    "    with open(dataPath, \"r\") as file:\n",
    "        next(file) \n",
    "        for line in file:\n",
    "            lineCleaned = line.strip(\"()\\n\") \n",
    "            lines = lineCleaned.split(\",\")\n",
    "            try:\n",
    "                width = float(lines[0])\n",
    "                height = float(lines[1])\n",
    "                data.append((width, height))\n",
    "            except ValueError:\n",
    "                print(f\"Can't process {line}\")\n",
    "                \n",
    "    \n",
    "    \n",
    "    return data\n",
    "#Test code\n",
    "testPath = \"../project/data/pichu.txt\"\n",
    "a = dataCleaner(testPath)\n",
    "a"
   ]
  },
  {
   "cell_type": "markdown",
   "metadata": {},
   "source": [
    "## DataLoader för träningsdata"
   ]
  },
  {
   "cell_type": "code",
   "execution_count": 470,
   "metadata": {},
   "outputs": [],
   "source": [
    "def loadData(path):\n",
    "    data = []\n",
    "    with open(path, \"r\") as file:\n",
    "        for line in file:\n",
    "            lines = line.strip(\"\\n\").split(\",\")\n",
    "            \n",
    "            try:\n",
    "                width = float(lines[0])\n",
    "                height = float(lines[1])\n",
    "                label = lines[2].strip()\n",
    "                data.append((width, height, label))\n",
    "            except ValueError:\n",
    "                print(f\"Could not process {line}\")\n",
    "                \n",
    "    return data\n"
   ]
  },
  {
   "cell_type": "markdown",
   "metadata": {},
   "source": [
    "## DataCombiner\n",
    "Kombinerar pichu och pikachu data till samma fil"
   ]
  },
  {
   "cell_type": "code",
   "execution_count": 471,
   "metadata": {},
   "outputs": [],
   "source": [
    "import re\n",
    "\n",
    "def dataCombiner(pichuPath, pikachuPath):\n",
    "    data = []  \n",
    "    def read_data(dataPath, label):\n",
    "        file = dataCleaner(dataPath)\n",
    "        for line in file:\n",
    "            try:\n",
    "                width, height = line \n",
    "                data.append((width, height, label))  \n",
    "            except ValueError:\n",
    "                print(f\"{line} is incorrecly formatted\")\n",
    "            \n",
    "    \n",
    "    read_data(pichuPath, \"pichu\")\n",
    "    read_data(pikachuPath, \"pikachu\")\n",
    "    return data\n",
    "    "
   ]
  },
  {
   "cell_type": "markdown",
   "metadata": {},
   "source": [
    "## Datasaver\n",
    "Sparar träningsdata till txt fil med label"
   ]
  },
  {
   "cell_type": "code",
   "execution_count": 472,
   "metadata": {},
   "outputs": [],
   "source": [
    "def trainingDataSaver(data, fileName):\n",
    "    with open(fileName, \"w\") as file:\n",
    "        for line in data:\n",
    "            file.write(f\"{line[0]}, {line[1]}, {line[2]}\\n\")"
   ]
  },
  {
   "cell_type": "markdown",
   "metadata": {},
   "source": [
    "## DataLoader för testdata"
   ]
  },
  {
   "cell_type": "code",
   "execution_count": 473,
   "metadata": {},
   "outputs": [],
   "source": [
    "def loadTestData(path):\n",
    "    with open(path, \"r\") as file:\n",
    "        rawData = file.read()\n",
    "        data = []\n",
    "        \n",
    "        cleanData = rawData.split(\",\")\n",
    "        \n",
    "        \n",
    "        for line in cleanData:\n",
    "            lines = line.strip(\"\\n) (\").split(\".\")\n",
    "            print(lines)\n",
    "            \n",
    "            \n",
    "            try:\n",
    "                width = float(lines[0])\n",
    "                height = float(lines[1])\n",
    "    \n",
    "                data.append((width, height))\n",
    "            except ValueError:\n",
    "                print(f\"Could not process {line}\")\n",
    "    \n",
    "        return data\n",
    "\n"
   ]
  },
  {
   "cell_type": "code",
   "execution_count": 474,
   "metadata": {},
   "outputs": [
    {
     "name": "stdout",
     "output_type": "stream",
     "text": [
      "['25', '35']\n",
      "['15', '14']\n",
      "['26', '30']\n",
      "['22', '45']\n"
     ]
    }
   ],
   "source": [
    "pichuDataPath = \"../project/data/pichu.txt\"\n",
    "pikatchuDataPath = \"../project/data/pikachu.txt\"\n",
    "testDataPath = \"../project/data/test_points.txt\"\n",
    "\n",
    "combinedData = dataCombiner(pichuDataPath, pikatchuDataPath)\n",
    "\n",
    "trainingDataSaver(combinedData, \"..\\project\\data\\\\trainingData.txt\")\n",
    "\n",
    "cleanTestData = loadTestData(testDataPath)\n",
    "\n"
   ]
  },
  {
   "cell_type": "code",
   "execution_count": 475,
   "metadata": {},
   "outputs": [
    {
     "data": {
      "text/plain": [
       "6.324555320336759"
      ]
     },
     "execution_count": 475,
     "metadata": {},
     "output_type": "execute_result"
    }
   ],
   "source": [
    "import math\n",
    "def euclideanDistance(point1, point2):\n",
    "    return math.sqrt(sum((p1 - p2) ** 2 for p1, p2 in zip(point1, point2)))\n",
    "\n",
    "#Test example\n",
    "\n",
    "point1 = (3, 5)\n",
    "point2 = (9, 3)\n",
    "\n",
    "distance = euclideanDistance(point1, point2)\n",
    "distance"
   ]
  },
  {
   "cell_type": "code",
   "execution_count": 476,
   "metadata": {},
   "outputs": [],
   "source": [
    "def mode(labels):\n",
    "    \n",
    "    #Returns the most common label\n",
    "    \n",
    "    return max(set(labels), key=labels.count)"
   ]
  },
  {
   "cell_type": "markdown",
   "metadata": {},
   "source": [
    "## Knn method"
   ]
  },
  {
   "cell_type": "code",
   "execution_count": 477,
   "metadata": {},
   "outputs": [],
   "source": [
    "def knn(data, query, k):\n",
    "    distanceIndex = []\n",
    "    # Calculates distance between query and trained data\n",
    "    for index, example in enumerate(data):\n",
    "        distance = euclideanDistance(example[:-1], query)\n",
    "        distanceIndex.append((distance, index))\n",
    "\n",
    "    sortedNeighbors = sorted(distanceIndex)\n",
    "\n",
    "    NearestIndices = [index for _, index in sortedNeighbors[:k]]\n",
    "    \n",
    "    nearestLabels = [data[i][-1] for i in NearestIndices]    \n",
    "    return mode(nearestLabels)\n"
   ]
  },
  {
   "cell_type": "code",
   "execution_count": 478,
   "metadata": {},
   "outputs": [],
   "source": [
    "def predict(trainingData, query, k):\n",
    "    prediction = knn(trainingData, query, k)\n",
    "    print(f\"Prediction: {prediction}\")"
   ]
  },
  {
   "cell_type": "code",
   "execution_count": 479,
   "metadata": {},
   "outputs": [
    {
     "name": "stdout",
     "output_type": "stream",
     "text": [
      "(20.11541438766307, 28.701809671168824, 'pichu') (15.200086041781336, 27.095070307714877, 'pichu') (17.200234546952956, 27.669778220491132, 'pichu')\n"
     ]
    },
    {
     "data": {
      "image/png": "[encoded data removed]",
      "text/plain": [
       "<Figure size 640x480 with 1 Axes>"
      ]
     },
     "metadata": {},
     "output_type": "display_data"
    }
   ],
   "source": [
    "import matplotlib.pyplot as plt\n",
    "\n",
    "\n",
    "trainingDataPath = \"..\\project\\data\\\\trainingData.txt\"\n",
    "trainingData = loadData(trainingDataPath)\n",
    "print(trainingData[0], trainingData[1], trainingData[2])\n",
    "\n",
    "widths = [point[0] for point in trainingData]\n",
    "heights = [point[1] for point in trainingData]\n",
    "\n",
    "pichuP = []\n",
    "pikachuP = []\n",
    "\n",
    "for width, height, label in trainingData:\n",
    "    if label == \"pikachu\":\n",
    "        pikachuP.append((width, height))\n",
    "    elif label == \"pichu\":\n",
    "        pichuP.append((width, height))\n",
    "\n",
    "\n",
    "plt.scatter(*zip(*pichuP), color = \"blue\", label=\"Pichu\")\n",
    "\n",
    "plt.scatter(*zip(*pikachuP), color = \"red\", label=\"Pikachu\")\n",
    "\n",
    "\n",
    "plt.grid(True)\n",
    "\n",
    "plt.show()\n",
    "\n"
   ]
  },
  {
   "cell_type": "code",
   "execution_count": 480,
   "metadata": {},
   "outputs": [
    {
     "name": "stdout",
     "output_type": "stream",
     "text": [
      "(25.0, 35.0)\n",
      "Prediction: pikachu\n",
      "(15.0, 14.0)\n",
      "Prediction: pichu\n",
      "(26.0, 30.0)\n",
      "Prediction: pichu\n",
      "(22.0, 45.0)\n",
      "Prediction: pikachu\n"
     ]
    }
   ],
   "source": [
    "\n",
    "for line in cleanTestData:\n",
    "    print(line)\n",
    "    predict(trainingData, line, 5)\n"
   ]
  },
  {
   "cell_type": "markdown",
   "metadata": {},
   "source": [
    "## User input test"
   ]
  },
  {
   "cell_type": "code",
   "execution_count": 481,
   "metadata": {},
   "outputs": [
    {
     "ename": "ValueError",
     "evalue": "could not convert string to float: ''",
     "output_type": "error",
     "traceback": [
      "\u001b[1;31m---------------------------------------------------------------------------\u001b[0m",
      "\u001b[1;31mValueError\u001b[0m                                Traceback (most recent call last)",
      "Cell \u001b[1;32mIn[481], line 4\u001b[0m\n\u001b[0;32m      2\u001b[0m input1 \u001b[38;5;241m=\u001b[39m \u001b[38;5;28minput\u001b[39m()\n\u001b[0;32m      3\u001b[0m input2 \u001b[38;5;241m=\u001b[39m \u001b[38;5;28minput\u001b[39m()\n\u001b[1;32m----> 4\u001b[0m testInput \u001b[38;5;241m=\u001b[39m (\u001b[38;5;28;43mfloat\u001b[39;49m\u001b[43m(\u001b[49m\u001b[43minput1\u001b[49m\u001b[43m)\u001b[49m, \u001b[38;5;28mfloat\u001b[39m(input2)) \n\u001b[0;32m      5\u001b[0m \u001b[38;5;28mprint\u001b[39m(testInput)\n\u001b[0;32m      6\u001b[0m predict(trainingData, testInput, \u001b[38;5;241m5\u001b[39m)\n",
      "\u001b[1;31mValueError\u001b[0m: could not convert string to float: ''"
     ]
    }
   ],
   "source": [
    "## User console input\n",
    "input1 = input()\n",
    "input2 = input()\n",
    "testInput = (float(input1), float(input2)) \n",
    "print(testInput)\n",
    "predict(trainingData, testInput, 5)"
   ]
  }
 ],
 "metadata": {
  "kernelspec": {
   "display_name": ".venv",
   "language": "python",
   "name": "python3"
  },
  "language_info": {
   "codemirror_mode": {
    "name": "ipython",
    "version": 3
   },
   "file_extension": ".py",
   "mimetype": "text/x-python",
   "name": "python",
   "nbconvert_exporter": "python",
   "pygments_lexer": "ipython3",
   "version": "3.11.7"
  }
 },
 "nbformat": 4,
 "nbformat_minor": 2
}
