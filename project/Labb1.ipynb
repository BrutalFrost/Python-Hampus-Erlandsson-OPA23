{
 "cells": [
  {
   "cell_type": "code",
   "execution_count": 279,
   "metadata": {},
   "outputs": [],
   "source": [
    "import re\n",
    "\n",
    "def dataCleaner(dataPath):\n",
    "    with open(dataPath, \"r\") as file:\n",
    "        rawData = file.read()\n",
    "    \n",
    "    noSpace = re.sub(r\"[ ]{1,}\", \"\", rawData)\n",
    "    dim = re.sub(r\"[\\n]{1,}\", \",\", noSpace)\n",
    "    \n",
    "    dim = dim.split(\"),(\")\n",
    "    dim =  [x.strip(\"()\") for x in dim]\n",
    "    \n",
    "    pattern = re.compile(r\"^\\d+(\\.\\d+)?,\\d+(\\.\\d+)?$\")\n",
    "    cleanDim = [x for x in dim if pattern.match(x)]\n",
    "    \n",
    "    coordinates = [eval(coordinate) for coordinate in cleanDim]\n",
    "    #__width, __height = zip(*cordinates)\n",
    "    \n",
    "    return coordinates\n",
    "    #return __width, __height\n",
    "    "
   ]
  },
  {
   "cell_type": "code",
   "execution_count": 293,
   "metadata": {},
   "outputs": [
    {
     "name": "stdout",
     "output_type": "stream",
     "text": [
      "['20.11541438766307,28.701809671168824', '15.200086041781336,27.095070307714877', '17.200234546952956,27.669778220491132', '16.785685905190583,34.36654587712494', '20.8917697133121,31.480353852465935', '20.41359589938329,31.091310056669883', '22.137436541638763,26.71138648198097', '15.695510661035328,32.291267979503495', '18.375374557482164,26.634024937619284', '15.238377755504562,28.794554417576478', '16.749103798428827,34.895233506365955', '19.042842304826898,31.399997598540928', '15.212287757470909,30.569497437746463', '16.59070120549319,31.846142509898748', '20.199075502236184,33.4285192018981', '19.35953184482573,32.75999911546245', '16.763524976325574,27.290480719641042', '19.71412547100727,25.321002439040377', '21.475443653422612,28.154530480590818', '15.051990077424488,27.67740875975703', '21.446554014662464,27.109828435863264', '20.585115159905815,34.429097143350546', '17.722004132143937,33.76367626472669', '16.24383599849425,28.14677880798478', '22.65770457765425,31.5543866529488', '17.692756360901015,28.95631901060664', '15.741966747041182,34.14547589740543', '15.773731014667712,29.588518525873987', '21.779954930779677,27.648801664980525', '19.82980825093513,27.466275076939834', '21.45702618619504,30.61368134163151', '20.837854293550542,27.627416085229353', '19.289824731637605,30.845859902235404', '22.784926111834963,33.97822883602477', '18.02827501766683,28.994005051403974', '19.416325050185815,27.193207591572833', '21.63523731402396,34.97537606495111', '19.94815801891397,30.095262936764644', '21.89365520248622,25.90909412173794', '19.618817162054096,25.471163754247346', '20.63657468971939,26.096491303506593', '15.366595069245298,31.2744604170309', '16.823186205212373,32.920793643629644', '17.315103708816856,29.22159966799684', '15.63833581538902,25.63527706151957', '16.862327090888243,28.816192865065368', '15.808011435277834,34.96121380240097', '17.223788824880735,30.29114345099137', '20.085475554115202,34.71078377613618']\n"
     ]
    },
    {
     "ename": "AttributeError",
     "evalue": "'list' object has no attribute 'shape'",
     "output_type": "error",
     "traceback": [
      "\u001b[1;31m---------------------------------------------------------------------------\u001b[0m",
      "\u001b[1;31mAttributeError\u001b[0m                            Traceback (most recent call last)",
      "Cell \u001b[1;32mIn[293], line 11\u001b[0m\n\u001b[0;32m      9\u001b[0m pikatchuLoc \u001b[38;5;241m=\u001b[39m dataCleaner(pikatchuDataPath)\n\u001b[0;32m     10\u001b[0m \u001b[38;5;28mprint\u001b[39m(pichuLoc)\n\u001b[1;32m---> 11\u001b[0m \u001b[38;5;28mprint\u001b[39m(\u001b[43mpichuLoc\u001b[49m\u001b[38;5;241;43m.\u001b[39;49m\u001b[43mshape\u001b[49m)\n",
      "\u001b[1;31mAttributeError\u001b[0m: 'list' object has no attribute 'shape'"
     ]
    }
   ],
   "source": [
    "pichuDataPath = \"../project/data/pichu.txt\"\n",
    "pikatchuDataPath = \"../project/data/pikachu.txt\"\n",
    "testDataPath = \"../project/data/test_points.txt\"\n",
    "\n",
    "#pichuWidth, pichuHeight = dataCleaner(pichuDataPath)\n",
    "#pikatchuWidth, pikatchuHeight = dataCleaner(pikatchuDataPath)\n",
    "#testWidth, testHeight = dataCleaner(testDataPath)\n",
    "pichuLoc = dataCleaner(pichuDataPath)\n",
    "pikatchuLoc = dataCleaner(pikatchuDataPath)\n",
    "print(pichuLoc)\n",
    "print(pichuLoc)\n"
   ]
  },
  {
   "cell_type": "code",
   "execution_count": 302,
   "metadata": {},
   "outputs": [
    {
     "ename": "IndexError",
     "evalue": "too many indices for array: array is 1-dimensional, but 2 were indexed",
     "output_type": "error",
     "traceback": [
      "\u001b[1;31m---------------------------------------------------------------------------\u001b[0m",
      "\u001b[1;31mIndexError\u001b[0m                                Traceback (most recent call last)",
      "Cell \u001b[1;32mIn[302], line 8\u001b[0m\n\u001b[0;32m      4\u001b[0m fig, ax \u001b[38;5;241m=\u001b[39m plt\u001b[38;5;241m.\u001b[39msubplots()\n\u001b[0;32m      5\u001b[0m pichuLocA \u001b[38;5;241m=\u001b[39m np\u001b[38;5;241m.\u001b[39marray(pichuLoc)\n\u001b[1;32m----> 8\u001b[0m ax\u001b[38;5;241m.\u001b[39mscatter(\u001b[43mpichuLocA\u001b[49m\u001b[43m[\u001b[49m\u001b[43m:\u001b[49m\u001b[43m,\u001b[49m\u001b[43m \u001b[49m\u001b[38;5;241;43m0\u001b[39;49m\u001b[43m]\u001b[49m, pichuLocA[:, \u001b[38;5;241m1\u001b[39m], color \u001b[38;5;241m=\u001b[39m \u001b[38;5;124m\"\u001b[39m\u001b[38;5;124mred\u001b[39m\u001b[38;5;124m\"\u001b[39m, label \u001b[38;5;241m=\u001b[39m \u001b[38;5;124m\"\u001b[39m\u001b[38;5;124mPikachu\u001b[39m\u001b[38;5;124m\"\u001b[39m)\n\u001b[0;32m      9\u001b[0m \u001b[38;5;66;03m#ax.scatter(pichuWidth, pichuHeight, color = \"blue\", label = \"Pichu\")\u001b[39;00m\n",
      "\u001b[1;31mIndexError\u001b[0m: too many indices for array: array is 1-dimensional, but 2 were indexed"
     ]
    },
    {
     "data": {
      "image/png": "[encoded data removed]",
      "text/plain": [
       "<Figure size 640x480 with 1 Axes>"
      ]
     },
     "metadata": {},
     "output_type": "display_data"
    }
   ],
   "source": [
    "import matplotlib.pyplot as plt\n",
    "import numpy as np\n",
    "\n",
    "fig, ax = plt.subplots()\n",
    "pichuLocA = np.array(pichuLoc)\n",
    "\n",
    "\n",
    "ax.scatter(pichuLoc[:, 0], pichuLoc[:, 1], color = \"red\", label = \"Pikachu\")\n",
    "#ax.scatter(pichuWidth, pichuHeight, color = \"blue\", label = \"Pichu\")\n",
    "\n"
   ]
  },
  {
   "cell_type": "code",
   "execution_count": null,
   "metadata": {},
   "outputs": [],
   "source": []
  }
 ],
 "metadata": {
  "kernelspec": {
   "display_name": ".venv",
   "language": "python",
   "name": "python3"
  },
  "language_info": {
   "codemirror_mode": {
    "name": "ipython",
    "version": 3
   },
   "file_extension": ".py",
   "mimetype": "text/x-python",
   "name": "python",
   "nbconvert_exporter": "python",
   "pygments_lexer": "ipython3",
   "version": "3.11.7"
  }
 },
 "nbformat": 4,
 "nbformat_minor": 2
}
