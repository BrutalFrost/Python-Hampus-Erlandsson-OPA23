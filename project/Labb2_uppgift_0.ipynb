{
 "cells": [
  {
   "cell_type": "markdown",
   "metadata": {},
   "source": [
    "## A."
   ]
  },
  {
   "cell_type": "code",
   "execution_count": 47,
   "metadata": {},
   "outputs": [
    {
     "data": {
      "text/html": [
       "<div>\n",
       "<style scoped>\n",
       "    .dataframe tbody tr th:only-of-type {\n",
       "        vertical-align: middle;\n",
       "    }\n",
       "\n",
       "    .dataframe tbody tr th {\n",
       "        vertical-align: top;\n",
       "    }\n",
       "\n",
       "    .dataframe thead th {\n",
       "        text-align: right;\n",
       "    }\n",
       "</style>\n",
       "<table border=\"1\" class=\"dataframe\">\n",
       "  <thead>\n",
       "    <tr style=\"text-align: right;\">\n",
       "      <th></th>\n",
       "      <th>Riket</th>\n",
       "      <th>Typ av huvudman</th>\n",
       "      <th>Totalt</th>\n",
       "      <th>Flickor</th>\n",
       "      <th>Pojkar</th>\n",
       "      <th>Totalt</th>\n",
       "      <th>Flickor</th>\n",
       "      <th>Pojkar</th>\n",
       "      <th>Totalt</th>\n",
       "      <th>Flickor</th>\n",
       "      <th>Pojkar</th>\n",
       "    </tr>\n",
       "  </thead>\n",
       "  <tbody>\n",
       "    <tr>\n",
       "      <th>0</th>\n",
       "      <td>Riket</td>\n",
       "      <td>Samtliga</td>\n",
       "      <td>106941</td>\n",
       "      <td>51864</td>\n",
       "      <td>55077</td>\n",
       "      <td>97.0</td>\n",
       "      <td>97.1</td>\n",
       "      <td>97.0</td>\n",
       "      <td>15.7</td>\n",
       "      <td>15.8</td>\n",
       "      <td>15.7</td>\n",
       "    </tr>\n",
       "    <tr>\n",
       "      <th>1</th>\n",
       "      <td>Riket</td>\n",
       "      <td>Kommunal</td>\n",
       "      <td>84310</td>\n",
       "      <td>40675</td>\n",
       "      <td>43635</td>\n",
       "      <td>96.6</td>\n",
       "      <td>96.6</td>\n",
       "      <td>96.6</td>\n",
       "      <td>15.4</td>\n",
       "      <td>15.5</td>\n",
       "      <td>15.4</td>\n",
       "    </tr>\n",
       "    <tr>\n",
       "      <th>2</th>\n",
       "      <td>Riket</td>\n",
       "      <td>Enskild</td>\n",
       "      <td>22582</td>\n",
       "      <td>11165</td>\n",
       "      <td>11417</td>\n",
       "      <td>98.7</td>\n",
       "      <td>98.8</td>\n",
       "      <td>98.7</td>\n",
       "      <td>16.9</td>\n",
       "      <td>17.0</td>\n",
       "      <td>16.8</td>\n",
       "    </tr>\n",
       "    <tr>\n",
       "      <th>3</th>\n",
       "      <td>Riket</td>\n",
       "      <td>Skolverket</td>\n",
       "      <td>49</td>\n",
       "      <td>24</td>\n",
       "      <td>25</td>\n",
       "      <td>100.0</td>\n",
       "      <td>100.0</td>\n",
       "      <td>100.0</td>\n",
       "      <td>18.5</td>\n",
       "      <td>18.9</td>\n",
       "      <td>18.2</td>\n",
       "    </tr>\n",
       "  </tbody>\n",
       "</table>\n",
       "</div>"
      ],
      "text/plain": [
       "   Riket Typ av huvudman  Totalt  Flickor  Pojkar  Totalt   Flickor   Pojkar   \\\n",
       "0  Riket        Samtliga  106941    51864   55077     97.0      97.1     97.0   \n",
       "1  Riket        Kommunal   84310    40675   43635     96.6      96.6     96.6   \n",
       "2  Riket         Enskild   22582    11165   11417     98.7      98.8     98.7   \n",
       "3  Riket      Skolverket      49       24      25    100.0     100.0    100.0   \n",
       "\n",
       "   Totalt    Flickor    Pojkar    \n",
       "0      15.7       15.8      15.7  \n",
       "1      15.4       15.5      15.4  \n",
       "2      16.9       17.0      16.8  \n",
       "3      18.5       18.9      18.2  "
      ]
     },
     "execution_count": 47,
     "metadata": {},
     "output_type": "execute_result"
    }
   ],
   "source": [
    "import pandas as pd\n",
    "import matplotlib.pyplot as plt\n",
    "\n",
    "riketAk9_path = \"..\\project\\data\\\\riket2023_åk9_np.xlsx\"\n",
    "\n",
    "df_riketAk9 = pd.read_excel(riketAk9_path, skiprows=8)\n",
    "df_riketAk9.head()"
   ]
  },
  {
   "cell_type": "markdown",
   "metadata": {},
   "source": [
    "## B."
   ]
  },
  {
   "cell_type": "code",
   "execution_count": 48,
   "metadata": {},
   "outputs": [
    {
     "name": "stdout",
     "output_type": "stream",
     "text": [
      "Matematik:\n"
     ]
    },
    {
     "data": {
      "text/html": [
       "<div>\n",
       "<style scoped>\n",
       "    .dataframe tbody tr th:only-of-type {\n",
       "        vertical-align: middle;\n",
       "    }\n",
       "\n",
       "    .dataframe tbody tr th {\n",
       "        vertical-align: top;\n",
       "    }\n",
       "\n",
       "    .dataframe thead th {\n",
       "        text-align: right;\n",
       "    }\n",
       "</style>\n",
       "<table border=\"1\" class=\"dataframe\">\n",
       "  <thead>\n",
       "    <tr style=\"text-align: right;\">\n",
       "      <th></th>\n",
       "      <th>Plats</th>\n",
       "      <th>Typ av huvudman</th>\n",
       "      <th>Totalt (A-F)</th>\n",
       "      <th>Flickor (A-F)</th>\n",
       "      <th>Pojkar (A-F)</th>\n",
       "      <th>Totalt (A-E)%</th>\n",
       "      <th>Flickor (A-E)%</th>\n",
       "      <th>Pojkar (A-E)%</th>\n",
       "      <th>Totalt (poäng)</th>\n",
       "      <th>Flickor (poäng)</th>\n",
       "      <th>Pojkar (poäng)</th>\n",
       "    </tr>\n",
       "  </thead>\n",
       "  <tbody>\n",
       "    <tr>\n",
       "      <th>0</th>\n",
       "      <td>Riket</td>\n",
       "      <td>Kommunal</td>\n",
       "      <td>84163</td>\n",
       "      <td>40386</td>\n",
       "      <td>43777</td>\n",
       "      <td>88.1</td>\n",
       "      <td>87.7</td>\n",
       "      <td>88.5</td>\n",
       "      <td>11.6</td>\n",
       "      <td>11.5</td>\n",
       "      <td>11.7</td>\n",
       "    </tr>\n",
       "    <tr>\n",
       "      <th>1</th>\n",
       "      <td>Riket</td>\n",
       "      <td>Enskild</td>\n",
       "      <td>22553</td>\n",
       "      <td>11137</td>\n",
       "      <td>11416</td>\n",
       "      <td>92.9</td>\n",
       "      <td>92.2</td>\n",
       "      <td>93.5</td>\n",
       "      <td>13.0</td>\n",
       "      <td>12.8</td>\n",
       "      <td>13.1</td>\n",
       "    </tr>\n",
       "    <tr>\n",
       "      <th>2</th>\n",
       "      <td>Riket</td>\n",
       "      <td>Skolverket</td>\n",
       "      <td>50</td>\n",
       "      <td>25</td>\n",
       "      <td>25</td>\n",
       "      <td>~100</td>\n",
       "      <td>~100</td>\n",
       "      <td>~100</td>\n",
       "      <td>14.1</td>\n",
       "      <td>13.5</td>\n",
       "      <td>14.7</td>\n",
       "    </tr>\n",
       "  </tbody>\n",
       "</table>\n",
       "</div>"
      ],
      "text/plain": [
       "   Plats Typ av huvudman  Totalt (A-F)  Flickor (A-F)  Pojkar (A-F)  \\\n",
       "0  Riket        Kommunal         84163          40386         43777   \n",
       "1  Riket         Enskild         22553          11137         11416   \n",
       "2  Riket      Skolverket            50             25            25   \n",
       "\n",
       "  Totalt (A-E)% Flickor (A-E)% Pojkar (A-E)%  Totalt (poäng)  Flickor (poäng)  \\\n",
       "0          88.1           87.7          88.5            11.6             11.5   \n",
       "1          92.9           92.2          93.5            13.0             12.8   \n",
       "2          ~100           ~100          ~100            14.1             13.5   \n",
       "\n",
       "   Pojkar (poäng)  \n",
       "0            11.7  \n",
       "1            13.1  \n",
       "2            14.7  "
      ]
     },
     "execution_count": 48,
     "metadata": {},
     "output_type": "execute_result"
    }
   ],
   "source": [
    "def reader(sheet, path):\n",
    "    df = pd.read_excel(path, sheet_name=sheet, skiprows= 9)\n",
    "    df.columns = ['Plats', 'Typ av huvudman', 'Totalt (A-F)', 'Flickor (A-F)', 'Pojkar (A-F)',\n",
    "                  'Totalt (A-E)%', 'Flickor (A-E)%', 'Pojkar (A-E)%',\n",
    "                  'Totalt (poäng)', 'Flickor (poäng)', 'Pojkar (poäng)']\n",
    "    \n",
    "    return df\n",
    "\n",
    "df_math = reader(\"Matematik\", riketAk9_path)\n",
    "print(\"Matematik:\")\n",
    "\n",
    "df_math.head()"
   ]
  },
  {
   "cell_type": "code",
   "execution_count": 49,
   "metadata": {},
   "outputs": [
    {
     "name": "stdout",
     "output_type": "stream",
     "text": [
      "Totalt antal studenter med F:  11617.0\n",
      "Totalt antal flickor med F:  5836.0\n",
      "Total antal pojkar med F:  5776.0\n"
     ]
    }
   ],
   "source": [
    "\n",
    "df_math[\"Totalt (A-E)%\"] = pd.to_numeric(df_math[\"Totalt (A-E)%\"], errors='coerce')\n",
    "df_math[\"Pojkar (A-E)%\"] = pd.to_numeric(df_math[\"Pojkar (A-E)%\"], errors='coerce')\n",
    "df_math[\"Flickor (A-E)%\"] = pd.to_numeric(df_math[\"Flickor (A-E)%\"], errors='coerce')\n",
    "\n",
    "\n",
    "df_math[\"Totalt (F)\"] = df_math[\"Totalt (A-F)\"] - (df_math[\"Totalt (A-F)\"] * df_math[\"Totalt (A-E)%\"] / 100)\n",
    "df_math[\"Pojkar (F)\"] = df_math[\"Pojkar (A-F)\"] - (df_math[\"Pojkar (A-F)\"] * df_math[\"Pojkar (A-E)%\"] / 100)\n",
    "df_math[\"Flickor (F)\"] = df_math[\"Flickor (A-F)\"] - (df_math[\"Flickor (A-F)\"] * df_math[\"Flickor (A-E)%\"] / 100)\n",
    "\n",
    "print(\"Totalt antal studenter med F: \", df_math[\"Totalt (F)\"].sum().round())\n",
    "print(\"Totalt antal flickor med F: \", df_math[\"Flickor (F)\"].sum().round())\n",
    "print(\"Total antal pojkar med F: \", df_math[\"Pojkar (F)\"].sum().round())\n",
    "\n"
   ]
  },
  {
   "cell_type": "markdown",
   "metadata": {},
   "source": [
    "## C."
   ]
  },
  {
   "cell_type": "code",
   "execution_count": 50,
   "metadata": {},
   "outputs": [
    {
     "name": "stdout",
     "output_type": "stream",
     "text": [
      "   Plats Typ av huvudman  Totalt (A-F)  Flickor (A-F)  Pojkar (A-F)  \\\n",
      "0  Riket        Kommunal         72771          35484         37287   \n",
      "1  Riket         Enskild         20414          10297         10117   \n",
      "2  Riket      Skolverket            40             19            21   \n",
      "\n",
      "   Totalt (A-E)%  Flickor (A-E)%  Pojkar (A-E)%  Totalt (poäng)  \\\n",
      "0           95.7            97.6           93.8            13.3   \n",
      "1           97.6            98.7           96.6            14.4   \n",
      "2          100.0           100.0          100.0            15.0   \n",
      "\n",
      "   Flickor (poäng)  Pojkar (poäng)  \n",
      "0             14.3            12.4  \n",
      "1             15.2            13.5  \n",
      "2             15.9            14.2  \n"
     ]
    }
   ],
   "source": [
    "\n",
    "df_swedish = reader(\"Svenska\", riketAk9_path)\n",
    "df_swedish_2 = reader(\"Svenska som andraspråk\", riketAk9_path)\n",
    "df_english = reader(\"Engelska\", riketAk9_path)\n",
    "\n",
    "\n",
    "total_points = [\n",
    "    df_math[\"Totalt (poäng)\"]\n",
    "    df_swedish[\"Totalt (poäng)\"]\n",
    "    df_swedish_2[\"Totalt (poäng)\"]\n",
    "    df_english[\"Totalt (poäng)\"]\n",
    "]\n",
    "\n",
    "\n",
    "sheet_names = list(df_riketAk9.keys())\n",
    "print(df_swedish)"
   ]
  }
 ],
 "metadata": {
  "kernelspec": {
   "display_name": ".venv",
   "language": "python",
   "name": "python3"
  },
  "language_info": {
   "codemirror_mode": {
    "name": "ipython",
    "version": 3
   },
   "file_extension": ".py",
   "mimetype": "text/x-python",
   "name": "python",
   "nbconvert_exporter": "python",
   "pygments_lexer": "ipython3",
   "version": "3.11.7"
  }
 },
 "nbformat": 4,
 "nbformat_minor": 2
}
